{
 "cells": [
  {
   "cell_type": "code",
   "execution_count": 1,
   "metadata": {},
   "outputs": [
    {
     "name": "stdout",
     "output_type": "stream",
     "text": [
      "(array([1519.98171095,   16.51295009,  123.20904267]), array([[ 1.91005463e-02,  9.99816319e-01,  1.58040899e-03],\n",
      "       [ 9.98357537e-01, -1.91580237e-02,  5.39925697e-02],\n",
      "       [-5.40129298e-02, -5.46525651e-04,  9.98540087e-01]]))\n"
     ]
    }
   ],
   "source": [
    "import numpy as np\n",
    "\n",
    "#################################\n",
    "# メソッド名：bunnseki\n",
    "# 引数:data 分析用データ\n",
    "# 機能:データから固有値と固有ベクトルを算出\n",
    "# 作成日:2018/04/17\n",
    "# 作成者:KAKU\n",
    "################################\n",
    "def bunnseki(data):\n",
    "    print(np.linalg.eig(data))\n",
    "\n",
    "#################################\n",
    "#9人の国語、数学、英語のテスト成績\n",
    "#第一列：国語\n",
    "#第二列：数学\n",
    "#第三列：英語\n",
    "#作成方針：数学がもっともばらつきが大きい\n",
    "#　　　　　英語は二番目ばらつきが大きい\n",
    "#         国語はなるべくばらつきがない\n",
    "#################################\n",
    "data = np.array([[88, 10, 85],\n",
    "                [85, 90, 62],\n",
    "                [92, 15, 55],\n",
    "                [91, 17, 82],\n",
    "                [99, 92, 59],\n",
    "                [89, 89, 79],\n",
    "                [94, 10, 80],\n",
    "                [91, 12, 75],\n",
    "                [97, 93, 87]])\n",
    "\n",
    "# 生データを共分散行列にする\n",
    "data2 = np.cov(data, rowvar = 0, bias = 1)\n",
    "\n",
    "bunnseki(data2)"
   ]
  }
 ],
 "metadata": {
  "kernelspec": {
   "display_name": "Python 3",
   "language": "python",
   "name": "python3"
  },
  "language_info": {
   "codemirror_mode": {
    "name": "ipython",
    "version": 3
   },
   "file_extension": ".py",
   "mimetype": "text/x-python",
   "name": "python",
   "nbconvert_exporter": "python",
   "pygments_lexer": "ipython3",
   "version": "3.6.4"
  }
 },
 "nbformat": 4,
 "nbformat_minor": 2
}
