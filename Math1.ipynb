{
 "cells": [
  {
   "cell_type": "markdown",
   "metadata": {},
   "source": [
    "# 微分とは\n",
    "ある関数のｙ＝ｆ(x)のxの変化により、ｙがどのぐらい変わるか\n",
    "\n",
    "# 偏微分とは \n",
    "ｙ = f(x,y)変数が二つある時は、片方の変数を一時的に一般の定数だと思うこと\n",
    "\n",
    "# 機械学習および深層学習における微分/偏微分の使用について \n",
    "①機械学習及び深層学習にて、処理結果の精度がどれぐらいなのかを、測定する時に、 微分や偏微分を使用する。結果がある点の時に微分の値が０に近ければ近いほどいいです。<br>\n",
    "②ある関数の最大値と最小値をとるために、微分を使用して、導関数 = 0で求めることができます。\n"
   ]
  },
  {
   "cell_type": "markdown",
   "metadata": {},
   "source": [
    "# $例題①　y = (x^2 + 3x + 1)^4 の導関数を求める$\n",
    "\n",
    "$X^2$ + $3X$ + $1$の導関数は\n",
    "\n",
    "2$X^1$ + $3(1X^0)$ = $2X + 3$ ・・・①\n",
    "\n",
    "$(X^2 + 3X + 1)^4 = 4(X^2 + 3X + 1)^3$　・・・②\n",
    "\n",
    "$①と②により$\n",
    "\n",
    "$答えは Y = 4(X^2 + 3X + 1)^3・2X + 3$\n",
    "\n"
   ]
  },
  {
   "cell_type": "markdown",
   "metadata": {},
   "source": [
    "\n",
    "\n",
    "# $例題② Y = log(sin(X^3 - 2)) の導関数を求める$\n",
    "\n",
    "$X^3 - 2 の導関数は 3X^2$・・・①<br>\n",
    "$sin(X^3 - 2)の導関数は cos(X^3 - 2)・3X^2$・・・②<br>\n",
    "$log(sin(X^3 - 2))の導関数は \\frac1{sin(X^3 - 2)}$・・・③<br>\n",
    "\n",
    "$①②③により$<br>\n",
    "\n",
    "$答えは$<br>\n",
    "$Y = \\frac1{sin(X^3 - 2)}・cos(X^3 - 2)・3X^2$\n",
    "\n"
   ]
  },
  {
   "cell_type": "markdown",
   "metadata": {},
   "source": [
    "\n",
    "\n",
    "# $例題③  f(X,Y) = (X^2 + Y^2)sinXYの導関数を求める$\n",
    "\n",
    "$u(X,Y) = X^2 + Y^2,v(x,y) = sinxy$\n",
    "\n",
    "$X^2 + Y^2 = 2X$・・・①\n",
    "\n",
    "$sinXY = Y・cosXY$・・・②\n",
    "\n",
    "$さらに \\frac{∂f}{∂x} = V・(2X) + u・(YcosXY)$<br>\n",
    "$よって$<br>\n",
    "$Xによる導関数は\n",
    "2X・(sinXY) + Y・cosXY・(X^2 + Y^2)になります$\n"
   ]
  },
  {
   "cell_type": "code",
   "execution_count": null,
   "metadata": {},
   "outputs": [],
   "source": []
  }
 ],
 "metadata": {
  "kernelspec": {
   "display_name": "Python 3",
   "language": "python",
   "name": "python3"
  },
  "language_info": {
   "codemirror_mode": {
    "name": "ipython",
    "version": 3
   },
   "file_extension": ".py",
   "mimetype": "text/x-python",
   "name": "python",
   "nbconvert_exporter": "python",
   "pygments_lexer": "ipython3",
   "version": "3.6.4"
  }
 },
 "nbformat": 4,
 "nbformat_minor": 2
}
